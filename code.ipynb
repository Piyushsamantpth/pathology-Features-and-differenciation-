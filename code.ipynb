{
 "cells": [
  {
   "cell_type": "code",
   "execution_count": 9,
   "metadata": {},
   "outputs": [
    {
     "name": "stdout",
     "output_type": "stream",
     "text": [
      "Requirement already satisfied: numpy in c:\\users\\piyushsamant\\appdata\\local\\packages\\pythonsoftwarefoundation.python.3.10_qbz5n2kfra8p0\\localcache\\local-packages\\python310\\site-packages (from -r requirements.txt (line 1)) (1.23.5)\n",
      "Requirement already satisfied: opencv-python in c:\\users\\piyushsamant\\appdata\\local\\packages\\pythonsoftwarefoundation.python.3.10_qbz5n2kfra8p0\\localcache\\local-packages\\python310\\site-packages (from -r requirements.txt (line 2)) (4.9.0.80)\n",
      "Requirement already satisfied: opencv-python-headless in c:\\users\\piyushsamant\\appdata\\local\\packages\\pythonsoftwarefoundation.python.3.10_qbz5n2kfra8p0\\localcache\\local-packages\\python310\\site-packages (from -r requirements.txt (line 3)) (4.6.0.66)\n",
      "Requirement already satisfied: matplotlib in c:\\users\\piyushsamant\\appdata\\local\\packages\\pythonsoftwarefoundation.python.3.10_qbz5n2kfra8p0\\localcache\\local-packages\\python310\\site-packages (from -r requirements.txt (line 4)) (3.8.3)\n",
      "Requirement already satisfied: scikit-learn in c:\\users\\piyushsamant\\appdata\\local\\packages\\pythonsoftwarefoundation.python.3.10_qbz5n2kfra8p0\\localcache\\local-packages\\python310\\site-packages (from -r requirements.txt (line 5)) (1.1.2)\n",
      "Requirement already satisfied: contourpy>=1.0.1 in c:\\users\\piyushsamant\\appdata\\local\\packages\\pythonsoftwarefoundation.python.3.10_qbz5n2kfra8p0\\localcache\\local-packages\\python310\\site-packages (from matplotlib->-r requirements.txt (line 4)) (1.2.0)\n",
      "Requirement already satisfied: cycler>=0.10 in c:\\users\\piyushsamant\\appdata\\local\\packages\\pythonsoftwarefoundation.python.3.10_qbz5n2kfra8p0\\localcache\\local-packages\\python310\\site-packages (from matplotlib->-r requirements.txt (line 4)) (0.11.0)\n",
      "Requirement already satisfied: fonttools>=4.22.0 in c:\\users\\piyushsamant\\appdata\\local\\packages\\pythonsoftwarefoundation.python.3.10_qbz5n2kfra8p0\\localcache\\local-packages\\python310\\site-packages (from matplotlib->-r requirements.txt (line 4)) (4.50.0)\n",
      "Requirement already satisfied: kiwisolver>=1.3.1 in c:\\users\\piyushsamant\\appdata\\local\\packages\\pythonsoftwarefoundation.python.3.10_qbz5n2kfra8p0\\localcache\\local-packages\\python310\\site-packages (from matplotlib->-r requirements.txt (line 4)) (1.4.4)\n",
      "Requirement already satisfied: packaging>=20.0 in c:\\users\\piyushsamant\\appdata\\local\\packages\\pythonsoftwarefoundation.python.3.10_qbz5n2kfra8p0\\localcache\\local-packages\\python310\\site-packages (from matplotlib->-r requirements.txt (line 4)) (24.0)\n",
      "Requirement already satisfied: pillow>=8 in c:\\users\\piyushsamant\\appdata\\local\\packages\\pythonsoftwarefoundation.python.3.10_qbz5n2kfra8p0\\localcache\\local-packages\\python310\\site-packages (from matplotlib->-r requirements.txt (line 4)) (10.2.0)\n",
      "Requirement already satisfied: pyparsing>=2.3.1 in c:\\users\\piyushsamant\\appdata\\local\\packages\\pythonsoftwarefoundation.python.3.10_qbz5n2kfra8p0\\localcache\\local-packages\\python310\\site-packages (from matplotlib->-r requirements.txt (line 4)) (3.0.9)\n",
      "Requirement already satisfied: python-dateutil>=2.7 in c:\\users\\piyushsamant\\appdata\\local\\packages\\pythonsoftwarefoundation.python.3.10_qbz5n2kfra8p0\\localcache\\local-packages\\python310\\site-packages (from matplotlib->-r requirements.txt (line 4)) (2.8.2)\n",
      "Requirement already satisfied: scipy>=1.3.2 in c:\\users\\piyushsamant\\appdata\\local\\packages\\pythonsoftwarefoundation.python.3.10_qbz5n2kfra8p0\\localcache\\local-packages\\python310\\site-packages (from scikit-learn->-r requirements.txt (line 5)) (1.9.0)\n",
      "Requirement already satisfied: joblib>=1.0.0 in c:\\users\\piyushsamant\\appdata\\local\\packages\\pythonsoftwarefoundation.python.3.10_qbz5n2kfra8p0\\localcache\\local-packages\\python310\\site-packages (from scikit-learn->-r requirements.txt (line 5)) (1.1.0)\n",
      "Requirement already satisfied: threadpoolctl>=2.0.0 in c:\\users\\piyushsamant\\appdata\\local\\packages\\pythonsoftwarefoundation.python.3.10_qbz5n2kfra8p0\\localcache\\local-packages\\python310\\site-packages (from scikit-learn->-r requirements.txt (line 5)) (3.1.0)\n",
      "Requirement already satisfied: six>=1.5 in c:\\users\\piyushsamant\\appdata\\local\\packages\\pythonsoftwarefoundation.python.3.10_qbz5n2kfra8p0\\localcache\\local-packages\\python310\\site-packages (from python-dateutil>=2.7->matplotlib->-r requirements.txt (line 4)) (1.16.0)\n"
     ]
    },
    {
     "name": "stderr",
     "output_type": "stream",
     "text": [
      "\n",
      "[notice] A new release of pip is available: 23.2.1 -> 24.1.1\n",
      "[notice] To update, run: C:\\Users\\PiyushSAMANT\\AppData\\Local\\Microsoft\\WindowsApps\\PythonSoftwareFoundation.Python.3.10_qbz5n2kfra8p0\\python.exe -m pip install --upgrade pip\n"
     ]
    }
   ],
   "source": [
    "# Cell 1: Install required packages\n",
    "!pip install -r requirements.txt\n"
   ]
  },
  {
   "cell_type": "code",
   "execution_count": 10,
   "metadata": {},
   "outputs": [],
   "source": [
    "import cv2\n",
    "import os\n",
    "import numpy as np\n",
    "import matplotlib.pyplot as plt\n",
    "from sklearn.metrics.pairwise import euclidean_distances"
   ]
  },
  {
   "cell_type": "code",
   "execution_count": 11,
   "metadata": {},
   "outputs": [],
   "source": [
    "# set the path for both the sets  \n",
    "image_path_set_1 = 'set_1'\n",
    "image_path_set_2 = 'set_2'"
   ]
  },
  {
   "cell_type": "code",
   "execution_count": 12,
   "metadata": {},
   "outputs": [],
   "source": [
    "def load_image_from_folder(folder_path):\n",
    "    images = []\n",
    "    for filename in os.listdir(folder_path):\n",
    "        img = cv2.imread(os.path.join(folder_path, filename))\n",
    "        if img is not None:\n",
    "            images.append(img)\n",
    "    return images\n",
    "\n",
    "def detect_sift_features(image, max_features=500):\n",
    "    gray = cv2.cvtColor(image, cv2.COLOR_BGR2GRAY)\n",
    "    sift = cv2.SIFT_create(nfeatures=max_features)\n",
    "    keypoints, descriptors = sift.detectAndCompute(gray, None)\n",
    "    if descriptors is None:\n",
    "        descriptors = np.zeros((max_features, 128))  \n",
    "    elif descriptors.shape[0] < max_features:\n",
    "        \n",
    "        descriptors = np.vstack([descriptors, np.zeros((max_features - descriptors.shape[0], 128))])\n",
    "    return descriptors.flatten()\n",
    "\n",
    "def extract_hog_features(image):\n",
    "    gray = cv2.cvtColor(image, cv2.COLOR_BGR2GRAY)\n",
    "    hog = cv2.HOGDescriptor()\n",
    "    h = hog.compute(gray)\n",
    "    return h.flatten()\n",
    "\n",
    "def extract_color_histogram(image, bins=(8, 8, 8)):\n",
    "    hist = cv2.calcHist([image], [0, 1, 2], None, bins, [0, 256, 0, 256, 0, 256])\n",
    "    cv2.normalize(hist, hist)\n",
    "    return hist.flatten()\n",
    "\n",
    "def extract_features(images):\n",
    "    features = []\n",
    "    for img in images:\n",
    "        sift_features = detect_sift_features(img)\n",
    "        hog_features = extract_hog_features(img)\n",
    "        color_histogram = extract_color_histogram(img)\n",
    "        combined_features = np.hstack((sift_features, hog_features, color_histogram))\n",
    "        features.append(combined_features)\n",
    "        # print(f\"SIFT features shape: {sift_features.shape}\")\n",
    "        # print(f\"HOG features shape: {hog_features.shape}\")\n",
    "        # print(f\"Color histogram shape: {color_histogram.shape}\")\n",
    "        # print(f\"Combined features shape: {combined_features.shape}\")\n",
    "    return np.vstack(features)  \n"
   ]
  },
  {
   "cell_type": "code",
   "execution_count": 13,
   "metadata": {},
   "outputs": [
    {
     "name": "stdout",
     "output_type": "stream",
     "text": [
      "Shape of set1_features: (4, 1274112)\n",
      "Shape of set2_features: (8, 1274112)\n"
     ]
    }
   ],
   "source": [
    "\n",
    "set1_images = load_image_from_folder(image_path_set_1)\n",
    "set2_images = load_image_from_folder(image_path_set_2)\n",
    "\n",
    "# Extract features\n",
    "set1_features = extract_features(set1_images)\n",
    "set2_features = extract_features(set2_images)\n",
    "\n",
    "# Check the shapes of the feature arrays\n",
    "print(f\"Shape of set1_features: {set1_features.shape}\")\n",
    "print(f\"Shape of set2_features: {set2_features.shape}\")\n"
   ]
  },
  {
   "cell_type": "code",
   "execution_count": 14,
   "metadata": {},
   "outputs": [
    {
     "name": "stdout",
     "output_type": "stream",
     "text": [
      "Distance matrix between set 1 and set 2 features:\n",
      "[[ 3738.7277601   2461.66064252  2707.10101711 11392.00238735\n",
      "   6738.60172045 11423.46654499 11473.30115333  3958.16172091]\n",
      " [ 3663.38039837  2711.0592997   2705.3938658  11414.73679792\n",
      "   6668.60448983 11487.23537059 11525.51426032  3850.11456763]\n",
      " [ 4433.68616573  4416.01117424  4506.53801961 11425.76272782\n",
      "   6626.01604367 11528.06708508 11567.45576438  4496.1254242 ]\n",
      " [ 5479.35970008  5532.94958961  5606.46996819 11412.81879513\n",
      "   6674.10656569 11555.58421099 11666.05262858  5699.28451586]]\n"
     ]
    }
   ],
   "source": [
    "# Calculate Euclidean distances between features of each image in set 1 and all images in set 2\n",
    "distances = euclidean_distances(set1_features, set2_features)\n",
    "\n",
    "\n",
    "print(\"Distance matrix between set 1 and set 2 features:\")\n",
    "print(distances)"
   ]
  },
  {
   "cell_type": "markdown",
   "metadata": {},
   "source": [
    "Analyzing the distances to differentiate sets\n"
   ]
  },
  {
   "cell_type": "code",
   "execution_count": 6,
   "metadata": {},
   "outputs": [
    {
     "name": "stdout",
     "output_type": "stream",
     "text": [
      "Closest images in set 2 for each image in set 1:\n",
      "[1 2 1 0]\n",
      "Average distance to images in set 2 for each image in set 1:\n",
      "[6736.62786834 6753.25488127 7374.95780059 7953.32824677]\n"
     ]
    }
   ],
   "source": [
    "# For each image in set 1, find the closest image in set 2\n",
    "closest_images = np.argmin(distances, axis=1)\n",
    "print(\"Closest images in set 2 for each image in set 1:\")\n",
    "print(closest_images)\n",
    "\n",
    "# Calculate average distance to the closest image in set 2 for each image in set 1\n",
    "average_distances = np.mean(distances, axis=1)\n",
    "print(\"Average distance to images in set 2 for each image in set 1:\")\n",
    "print(average_distances)\n",
    "\n"
   ]
  }
 ],
 "metadata": {
  "kernelspec": {
   "display_name": "Python 3",
   "language": "python",
   "name": "python3"
  },
  "language_info": {
   "codemirror_mode": {
    "name": "ipython",
    "version": 3
   },
   "file_extension": ".py",
   "mimetype": "text/x-python",
   "name": "python",
   "nbconvert_exporter": "python",
   "pygments_lexer": "ipython3",
   "version": "3.10.11"
  }
 },
 "nbformat": 4,
 "nbformat_minor": 2
}
